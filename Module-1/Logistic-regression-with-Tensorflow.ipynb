{
 "cells": [
  {
   "cell_type": "markdown",
   "metadata": {},
   "source": [
    "## LOGISTIC REGRESSION WITH TENSORFLOW"
   ]
  },
  {
   "cell_type": "markdown",
   "metadata": {},
   "source": [
    "Logistic Regression is one of most important techniques in data science. It is usually used to solve the classic classification problem.\n",
    "\n",
    "#### Here we will cover following :\n",
    "* Linear Regression vs Logistic Regression\n",
    "* Utilizing Logistic Regression in TensorFlow\n",
    "* Training\n"
   ]
  },
  {
   "cell_type": "markdown",
   "metadata": {},
   "source": [
    "---------------\n",
    "### What is difference between Linear Regression and Logistic Regression\n",
    "While Linear Regression is suited for estimating continuous values (e.g. estimating house price), it is not the best tool for predicting the class in which an observed data point belongs. In order to provide estimate for classification, we need some sort of guidance on what would be the <b>most probable class</b> for that data point. For this, we use <b>Logistic Regression</b>.\n",
    "\n",
    "<div class='alert alert-info alertsuccess'>\n",
    "            <h3> Recall Linear Regression </h3>\n",
    "Linear regression finds a function that relates a continuous dependent variable, <i>y</i>, to some predictors (independent variables <i>x1</i>, <i>x2</i>, etc.). Simple linear regression assumes a function of the form:\n",
    "$$\n",
    "y = w0 + w1 \\times x1 + w2 \\times x2 + \\cdots\n",
    "$$\n",
    "\n",
    "and finds the values of <i>w0</i>, <i>w1</i>, <i>w2</i>, etc. The term <i>w0</i> is the \"intercept\" or \"constant term\" (it's shown as <i>b</i> in the formula below):\n",
    "<br><br>\n",
    "$$\n",
    "Y = W X + b\n",
    "$$\n",
    "</div>"
   ]
  },
  {
   "cell_type": "markdown",
   "metadata": {},
   "source": [
    "Logistic Regression is a variation of Linear Regression, useful when the observed dependent variable, <i>y</i>, is categorical. It produces a formula that predicts the probability of the class label as a function of the independent variables.\n",
    "\n",
    "Despite the name logistic <i>regression</i>, it is actually a <b>probabilistic classification</b> model. Logistic regression fits a special s-shaped curve by taking the linear regression and transforming the numeric estimate into a probability with the following function:\n",
    "\n",
    "$$\n",
    "Probability Of a Class = \\theta(y) = \\frac{e^y}{1 + e^y} = exp(y) / (1 + exp(y)) = p \n",
    "$$\n",
    "\n",
    "which produces p-values between 0 (as y approaches minus infinity $-\\infty$) and 1 (as y approaches plus infinity $+\\infty$). This now becomes a special kind of non-linear regression.\n",
    "\n",
    "In this equation, <i>y</i> is the regression result (the sum of the variables weighted by the coefficients), <code>exp</code> is the exponential function and $\\theta(y)$ is the logistic function</a>, also called logistic curve. It is a common \"S\" shape (sigmoid curve), and was first developed for modeling population growth.\n",
    "\n",
    "You might also have seen this function before, in another configuration:\n",
    "\n",
    "$$\n",
    "ProbabilityOfaClass = \\theta(y) = \\frac{1}{1+e^{-y}}\n",
    "$$\n",
    "\n",
    "So, briefly, Logistic Regression passes the input through the logistic/sigmoid function but then treats the result as a probability:\n",
    "\n",
    "![](Images/logistic_regression.png)\n",
    "\n",
    "-------------\n"
   ]
  },
  {
   "cell_type": "markdown",
   "metadata": {},
   "source": [
    "<h2>Utilizing Logistic Regression in TensorFlow</h2>\n",
    "\n",
    "For us to utilize Logistic Regression in TensorFlow, we first need to import the required libraries. To do so, you can run the code cell below."
   ]
  },
  {
   "cell_type": "code",
   "execution_count": 1,
   "metadata": {},
   "outputs": [],
   "source": [
    "import warnings\n",
    "warnings.filterwarnings('ignore')"
   ]
  },
  {
   "cell_type": "code",
   "execution_count": 2,
   "metadata": {},
   "outputs": [],
   "source": [
    "import tensorflow as tf\n",
    "import pandas as pd\n",
    "import numpy as np\n",
    "import time\n",
    "from sklearn.datasets import load_iris\n",
    "from sklearn.model_selection import train_test_split\n",
    "import matplotlib.pyplot as plt"
   ]
  },
  {
   "cell_type": "markdown",
   "metadata": {},
   "source": [
    "Next, we will load the dataset we are going to use. In this case, we are utilizing the <code>iris</code> dataset, which is inbuilt -- so there's no need to do any preprocessing and we can jump right into manipulating it. We separate the dataset into <i>xs</i> and <i>ys</i>, and then into training <i>xs</i> and <i>ys</i> and testing <i>xs</i> and <i>ys</i>, (pseudo)randomly."
   ]
  },
  {
   "cell_type": "markdown",
   "metadata": {},
   "source": [
    "<h3>Understanding the Data</h3>\n",
    "\n",
    "<h4><code>Iris Dataset</code>:</h4>\n",
    "This dataset was introduced by British Statistician and Biologist Ronald Fisher, it consists of 50 samples from each of three species of Iris (Iris setosa, Iris virginica and Iris versicolor). In total it has 150 records under five attributes - petal length, petal width, sepal length, sepal width and species. <a href=\"https://archive.ics.uci.edu/ml/datasets/iris\">Dataset source</a>\n",
    "\n",
    "Attributes\n",
    "Independent Variable\n",
    "<ul>\n",
    "    <li>petal length</li>\n",
    "    <li>petal width</li>\n",
    "    <li>sepal length</li>\n",
    "    <li>sepal width</li>\n",
    "</ul>\n",
    "Dependent Variable\n",
    "<ul>    \n",
    "    <li>Species\n",
    "        <ul>\n",
    "            <li>Iris setosa</li>\n",
    "            <li>Iris virginica</li>\n",
    "            <li>Iris versicolor</li>\n",
    "        </ul>\n",
    "    </li>\n",
    "</ul>\n",
    "<br>"
   ]
  },
  {
   "cell_type": "code",
   "execution_count": 3,
   "metadata": {},
   "outputs": [],
   "source": [
    "iris = load_iris()\n",
    "iris_X, iris_y = iris.data[:-1,:], iris.target[:-1]\n",
    "iris_y= pd.get_dummies(iris_y).values\n",
    "trainX, testX, trainY, testY = train_test_split(iris_X, iris_y, test_size=0.33, random_state=42)"
   ]
  },
  {
   "cell_type": "markdown",
   "metadata": {},
   "source": [
    "Now we define x and y. These placeholders will hold our iris data (both the features and label matrices), and help pass them along to different parts of the algorithm. You can consider placeholders as empty shells into which we insert our data. We also need to give them shapes which correspond to the shape of our data. Later, we will insert data into these placeholders by “feeding” the placeholders the data via a “feed_dict” (Feed Dictionary).\n",
    "\n",
    "<h3>Why use Placeholders?</h3>\n",
    "\n",
    "<ol>\n",
    "    <li>This feature of TensorFlow allows us to create an algorithm which accepts data and knows something about the shape of the data without knowing the amount of data going in.</li>\n",
    "    <li>When we insert “batches” of data in training, we can easily adjust how many examples we train on in a single step without changing the entire algorithm.</li>\n",
    "</ol>"
   ]
  },
  {
   "cell_type": "code",
   "execution_count": 4,
   "metadata": {},
   "outputs": [
    {
     "data": {
      "text/plain": [
       "(99, 4)"
      ]
     },
     "execution_count": 4,
     "metadata": {},
     "output_type": "execute_result"
    }
   ],
   "source": [
    "trainX.shape   # 99 rows and 4 categories or columns"
   ]
  },
  {
   "cell_type": "code",
   "execution_count": 5,
   "metadata": {},
   "outputs": [
    {
     "data": {
      "text/plain": [
       "array([[5.7, 3. , 4.2, 1.2],\n",
       "       [6.5, 3. , 5.8, 2.2],\n",
       "       [5.6, 3. , 4.5, 1.5]])"
      ]
     },
     "execution_count": 5,
     "metadata": {},
     "output_type": "execute_result"
    }
   ],
   "source": [
    "trainX[:3]"
   ]
  },
  {
   "cell_type": "code",
   "execution_count": 6,
   "metadata": {},
   "outputs": [
    {
     "data": {
      "text/plain": [
       "(99, 3)"
      ]
     },
     "execution_count": 6,
     "metadata": {},
     "output_type": "execute_result"
    }
   ],
   "source": [
    "trainY.shape    # 99 rows and 3 columns"
   ]
  },
  {
   "cell_type": "code",
   "execution_count": 7,
   "metadata": {},
   "outputs": [
    {
     "data": {
      "text/plain": [
       "array([[0, 1, 0],\n",
       "       [0, 0, 1],\n",
       "       [0, 1, 0]], dtype=uint8)"
      ]
     },
     "execution_count": 7,
     "metadata": {},
     "output_type": "execute_result"
    }
   ],
   "source": [
    "trainY[:3]"
   ]
  },
  {
   "cell_type": "code",
   "execution_count": 8,
   "metadata": {},
   "outputs": [],
   "source": [
    "# numFeatures is the number of features in our input data.\n",
    "# In the iris dataset, this number is '4'.\n",
    "numFeatures = trainX.shape[1]\n",
    "\n",
    "# numLabels is the number of classes our data points can be in.\n",
    "# In the iris dataset, this number is '3'.\n",
    "numLabels = trainY.shape[1]\n",
    "\n",
    "\n",
    "# Placeholders\n",
    "# 'None' means TensorFlow shouldn't expect a fixed number in that dimension\n",
    "X = tf.placeholder(tf.float32, [None, numFeatures]) # Iris has 4 features, so X is a tensor to hold our data.\n",
    "yGold = tf.placeholder(tf.float32, [None, numLabels]) # This will be our correct answers matrix for 3 classes."
   ]
  },
  {
   "cell_type": "markdown",
   "metadata": {},
   "source": [
    "<h3>Set model weights and bias</h3>\n",
    "\n",
    "Much like Linear Regression, we need a shared variable weight matrix for Logistic Regression. We initialize both <code>W</code> and <code>b</code> as tensors full of zeros. Since we are going to learn <code>W</code> and <code>b</code>, their initial value does not matter too much. These variables are the objects which define the structure of our regression model, and we can save them after they have been trained so we can reuse them later.\n",
    "\n",
    "We define two TensorFlow variables as our parameters. These variables will hold the weights and biases of our logistic regression and they will be continually updated during training. \n",
    "\n",
    "Notice that <code>W</code> has a shape of [4, 3] because we want to multiply the 4-dimensional input vectors by it to produce 3-dimensional vectors of evidence for the difference classes. <code>b</code> has a shape of [3] so we can add it to the output. Moreover, unlike our placeholders above which are essentially empty shells waiting to be fed data, TensorFlow variables need to be initialized with values, e.g. with zeros."
   ]
  },
  {
   "cell_type": "code",
   "execution_count": 9,
   "metadata": {},
   "outputs": [],
   "source": [
    "W = tf.Variable(tf.zeros([4, 3]))  # 4-dimensional input and  3 classes\n",
    "b = tf.Variable(tf.zeros([3])) # 3-dimensional output [0,0,1],[0,1,0],[1,0,0]"
   ]
  },
  {
   "cell_type": "code",
   "execution_count": 10,
   "metadata": {},
   "outputs": [],
   "source": [
    "#Randomly sample from a normal distribution with standard deviation .01\n",
    "\n",
    "weights = tf.Variable(tf.random_normal([numFeatures,numLabels],\n",
    "                                       mean=0,\n",
    "                                       stddev=0.01,\n",
    "                                       name=\"weights\"))\n",
    "\n",
    "bias = tf.Variable(tf.random_normal([1,numLabels],\n",
    "                                    mean=0,\n",
    "                                    stddev=0.01,\n",
    "                                    name=\"bias\"))"
   ]
  },
  {
   "cell_type": "markdown",
   "metadata": {},
   "source": [
    "<h3>Logistic Regression model</h3>\n",
    "\n",
    "We now define our operations in order to properly run the Logistic Regression. Logistic regression is typically thought of as a single equation:\n",
    "\n",
    "$$\n",
    "ŷ =sigmoid(WX+b)\n",
    "$$\n",
    "\n",
    "However, for the sake of clarity, we can have it broken into its three main components: \n",
    "- a weight times features matrix multiplication operation, \n",
    "- a summation of the weighted features and a bias term, \n",
    "- and finally the application of a sigmoid function. \n",
    "\n",
    "As such, you will find these components defined as three separate operations below.\n"
   ]
  },
  {
   "cell_type": "code",
   "execution_count": 11,
   "metadata": {},
   "outputs": [],
   "source": [
    "# Three-component breakdown of the Logistic Regression equation.\n",
    "# Note that these feed into each other.\n",
    "apply_weights_OP = tf.matmul(X, weights, name=\"apply_weights\")\n",
    "add_bias_OP = tf.add(apply_weights_OP, bias, name=\"add_bias\") \n",
    "activation_OP = tf.nn.sigmoid(add_bias_OP, name=\"activation\")"
   ]
  },
  {
   "cell_type": "markdown",
   "metadata": {},
   "source": [
    "As we have seen before, the function we are going to use is the <i>logistic function</i> $(\\frac{1}{1+e^{-Wx}})$, which is fed the input data after applying weights and bias. In TensorFlow, this function is implemented as the <code>nn.sigmoid</code> function. Effectively, this fits the weighted input with bias into a 0-100 percent curve, which is the probability function we want."
   ]
  },
  {
   "cell_type": "markdown",
   "metadata": {},
   "source": [
    "<h2>Training</h2>\n",
    "\n",
    "The learning algorithm is how we search for the best weight vector (${\\bf w}$). This search is an optimization problem looking for the hypothesis that optimizes an error/cost measure.\n",
    "\n",
    "<b>What tell us our model is bad?</b>  \n",
    "The Cost or Loss of the model, so what we want is to minimize that. \n",
    "\n",
    "<b>What is the cost function in our model?</b>  \n",
    "The cost function we are going to utilize is the Squared Mean Error loss function.\n",
    "\n",
    "<b>How to minimize the cost function?</b>   \n",
    "We can't use <b>least-squares linear regression</b> here, so we will use <a href=\"http://en.wikipedia.org/wiki/Gradient_descent\">gradient descent</a> instead. Specifically, we will use batch gradient descent which calculates the gradient from all data points in the data set.\n",
    "\n",
    "<h3>Cost function</h3>\n",
    "Before defining our cost function, we need to define how long we are going to train and how should we define the learning rate."
   ]
  },
  {
   "cell_type": "code",
   "execution_count": 12,
   "metadata": {},
   "outputs": [],
   "source": [
    "# Number of Epochs in our training\n",
    "numEpochs = 1000\n",
    "\n",
    "# Defining our learning rate iterations (decay)\n",
    "learningRate = tf.train.exponential_decay(learning_rate=0.0009,\n",
    "                                          global_step= 1,\n",
    "                                          decay_steps=trainX.shape[0],\n",
    "                                          decay_rate= 0.95,\n",
    "                                          staircase=True)"
   ]
  },
  {
   "cell_type": "code",
   "execution_count": 13,
   "metadata": {},
   "outputs": [],
   "source": [
    "#Defining our cost function - Squared Mean Error\n",
    "cost_OP = tf.nn.l2_loss(activation_OP-yGold, name=\"squared_error_cost\")\n",
    "\n",
    "#Defining our Gradient Descent\n",
    "training_OP = tf.train.GradientDescentOptimizer(learningRate).minimize(cost_OP)"
   ]
  },
  {
   "cell_type": "markdown",
   "metadata": {},
   "source": [
    "Now we move on to actually running our operations. We will start with the operations involved in the prediction phase (i.e. the logistic regression itself).\n",
    "\n",
    "First, we need to initialize our weights and biases with zeros or random values via the inbuilt Initialization Op, <b>tf.initialize_all_variables()</b>. This Initialization Op will become a node in our computational graph, and when we put the graph into a session, then the Op will run and create the variables."
   ]
  },
  {
   "cell_type": "code",
   "execution_count": 14,
   "metadata": {},
   "outputs": [],
   "source": [
    "# Create a tensorflow session\n",
    "sess = tf.Session()\n",
    "\n",
    "# Initialize our weights and biases variables.\n",
    "init_OP = tf.global_variables_initializer()\n",
    "\n",
    "# Initialize all tensorflow variables\n",
    "sess.run(init_OP)"
   ]
  },
  {
   "cell_type": "markdown",
   "metadata": {},
   "source": [
    "We also want some additional operations to keep track of our model's efficiency over time. We can do this like so:"
   ]
  },
  {
   "cell_type": "code",
   "execution_count": 15,
   "metadata": {},
   "outputs": [],
   "source": [
    "# argmax(activation_OP, 1) returns the label with the most probability\n",
    "# argmax(yGold, 1) is the correct label\n",
    "correct_predictions_OP = tf.equal(tf.argmax(activation_OP,1),tf.argmax(yGold,1))\n",
    "\n",
    "# If every false prediction is 0 and every true prediction is 1, the average returns us the accuracy\n",
    "accuracy_OP = tf.reduce_mean(tf.cast(correct_predictions_OP, \"float\"))\n",
    "\n",
    "# Summary op for regression output\n",
    "activation_summary_OP = tf.summary.histogram(\"output\", activation_OP)\n",
    "\n",
    "# Summary op for accuracy\n",
    "accuracy_summary_OP = tf.summary.scalar(\"accuracy\", accuracy_OP)\n",
    "\n",
    "# Summary op for cost\n",
    "cost_summary_OP = tf.summary.scalar(\"cost\", cost_OP)\n",
    "\n",
    "# Summary ops to check how variables (W, b) are updating after each iteration\n",
    "weightSummary = tf.summary.histogram(\"weights\", weights.eval(session=sess))\n",
    "biasSummary = tf.summary.histogram(\"biases\", bias.eval(session=sess))\n",
    "\n",
    "# Merge all summaries\n",
    "merged = tf.summary.merge([activation_summary_OP, accuracy_summary_OP, cost_summary_OP, weightSummary, biasSummary])\n",
    "\n",
    "# Summary writer\n",
    "writer = tf.summary.FileWriter(\"summary_logs\", sess.graph)"
   ]
  },
  {
   "cell_type": "markdown",
   "metadata": {},
   "source": [
    "Now we can define and run the actual training loop, like this:"
   ]
  },
  {
   "cell_type": "code",
   "execution_count": 16,
   "metadata": {},
   "outputs": [
    {
     "name": "stdout",
     "output_type": "stream",
     "text": [
      "step 0, training accuracy 0.333333, cost 33.9123, change in cost 33.9123\n",
      "step 10, training accuracy 0.646465, cost 29.7292, change in cost 4.18313\n",
      "step 20, training accuracy 0.646465, cost 27.6214, change in cost 2.10783\n",
      "step 30, training accuracy 0.646465, cost 25.8913, change in cost 1.73013\n",
      "step 40, training accuracy 0.646465, cost 24.4929, change in cost 1.39837\n",
      "step 50, training accuracy 0.646465, cost 23.3648, change in cost 1.12807\n",
      "step 60, training accuracy 0.646465, cost 22.449, change in cost 0.915852\n",
      "step 70, training accuracy 0.646465, cost 21.6974, change in cost 0.751522\n",
      "step 80, training accuracy 0.646465, cost 21.073, change in cost 0.624403\n",
      "step 90, training accuracy 0.656566, cost 20.5476, change in cost 0.525494\n",
      "step 100, training accuracy 0.666667, cost 20.0997, change in cost 0.44783\n",
      "step 110, training accuracy 0.666667, cost 19.7135, change in cost 0.386185\n",
      "step 120, training accuracy 0.666667, cost 19.3768, change in cost 0.336716\n",
      "step 130, training accuracy 0.666667, cost 19.0803, change in cost 0.296568\n",
      "step 140, training accuracy 0.676768, cost 18.8166, change in cost 0.263641\n",
      "step 150, training accuracy 0.686869, cost 18.5803, change in cost 0.236355\n",
      "step 160, training accuracy 0.686869, cost 18.3667, change in cost 0.213533\n",
      "step 170, training accuracy 0.707071, cost 18.1724, change in cost 0.194275\n",
      "step 180, training accuracy 0.717172, cost 17.9946, change in cost 0.177877\n",
      "step 190, training accuracy 0.737374, cost 17.8308, change in cost 0.163813\n",
      "step 200, training accuracy 0.747475, cost 17.6791, change in cost 0.151657\n",
      "step 210, training accuracy 0.757576, cost 17.538, change in cost 0.141088\n",
      "step 220, training accuracy 0.777778, cost 17.4062, change in cost 0.131823\n",
      "step 230, training accuracy 0.787879, cost 17.2825, change in cost 0.123665\n",
      "step 240, training accuracy 0.787879, cost 17.1661, change in cost 0.116436\n",
      "step 250, training accuracy 0.787879, cost 17.0561, change in cost 0.109991\n",
      "step 260, training accuracy 0.787879, cost 16.9519, change in cost 0.104227\n",
      "step 270, training accuracy 0.79798, cost 16.8528, change in cost 0.0990429\n",
      "step 280, training accuracy 0.79798, cost 16.7585, change in cost 0.0943546\n",
      "step 290, training accuracy 0.79798, cost 16.6684, change in cost 0.0901012\n",
      "step 300, training accuracy 0.808081, cost 16.5821, change in cost 0.0862255\n",
      "step 310, training accuracy 0.828283, cost 16.4995, change in cost 0.0826855\n",
      "step 320, training accuracy 0.828283, cost 16.42, change in cost 0.0794353\n",
      "step 330, training accuracy 0.838384, cost 16.3436, change in cost 0.0764389\n",
      "step 340, training accuracy 0.838384, cost 16.2699, change in cost 0.0736713\n",
      "step 350, training accuracy 0.848485, cost 16.1988, change in cost 0.0711136\n",
      "step 360, training accuracy 0.848485, cost 16.1301, change in cost 0.0687294\n",
      "step 370, training accuracy 0.848485, cost 16.0636, change in cost 0.0665131\n",
      "step 380, training accuracy 0.848485, cost 15.9991, change in cost 0.0644388\n",
      "step 390, training accuracy 0.868687, cost 15.9366, change in cost 0.0625019\n",
      "step 400, training accuracy 0.868687, cost 15.8759, change in cost 0.0606794\n",
      "step 410, training accuracy 0.878788, cost 15.817, change in cost 0.0589666\n",
      "step 420, training accuracy 0.878788, cost 15.7596, change in cost 0.057354\n",
      "step 430, training accuracy 0.878788, cost 15.7038, change in cost 0.0558281\n",
      "step 440, training accuracy 0.878788, cost 15.6494, change in cost 0.0543842\n",
      "step 450, training accuracy 0.878788, cost 15.5964, change in cost 0.0530205\n",
      "step 460, training accuracy 0.878788, cost 15.5447, change in cost 0.0517206\n",
      "step 470, training accuracy 0.888889, cost 15.4942, change in cost 0.0504885\n",
      "step 480, training accuracy 0.89899, cost 15.4449, change in cost 0.0493126\n",
      "step 490, training accuracy 0.89899, cost 15.3967, change in cost 0.0481911\n",
      "step 500, training accuracy 0.89899, cost 15.3496, change in cost 0.0471201\n",
      "step 510, training accuracy 0.89899, cost 15.3035, change in cost 0.0460987\n",
      "step 520, training accuracy 0.89899, cost 15.2583, change in cost 0.0451145\n",
      "step 530, training accuracy 0.909091, cost 15.2142, change in cost 0.044179\n",
      "step 540, training accuracy 0.909091, cost 15.1709, change in cost 0.0432768\n",
      "step 550, training accuracy 0.909091, cost 15.1285, change in cost 0.0424089\n",
      "step 560, training accuracy 0.909091, cost 15.0869, change in cost 0.0415754\n",
      "step 570, training accuracy 0.909091, cost 15.0461, change in cost 0.0407753\n",
      "step 580, training accuracy 0.909091, cost 15.0061, change in cost 0.0400038\n",
      "step 590, training accuracy 0.909091, cost 14.9669, change in cost 0.039258\n",
      "step 600, training accuracy 0.909091, cost 14.9283, change in cost 0.038538\n",
      "step 610, training accuracy 0.909091, cost 14.8905, change in cost 0.0378475\n",
      "step 620, training accuracy 0.909091, cost 14.8533, change in cost 0.0371723\n",
      "step 630, training accuracy 0.909091, cost 14.8168, change in cost 0.0365248\n",
      "step 640, training accuracy 0.909091, cost 14.7809, change in cost 0.0358973\n",
      "step 650, training accuracy 0.909091, cost 14.7456, change in cost 0.0352869\n",
      "step 660, training accuracy 0.909091, cost 14.7109, change in cost 0.0346985\n",
      "step 670, training accuracy 0.909091, cost 14.6768, change in cost 0.0341272\n",
      "step 680, training accuracy 0.909091, cost 14.6432, change in cost 0.0335712\n",
      "step 690, training accuracy 0.909091, cost 14.6102, change in cost 0.0330315\n",
      "step 700, training accuracy 0.909091, cost 14.5777, change in cost 0.0325069\n",
      "step 710, training accuracy 0.909091, cost 14.5457, change in cost 0.0320015\n",
      "step 720, training accuracy 0.909091, cost 14.5142, change in cost 0.0315056\n",
      "step 730, training accuracy 0.909091, cost 14.4831, change in cost 0.031024\n",
      "step 740, training accuracy 0.909091, cost 14.4526, change in cost 0.0305557\n",
      "step 750, training accuracy 0.919192, cost 14.4225, change in cost 0.0300989\n",
      "step 760, training accuracy 0.919192, cost 14.3928, change in cost 0.0296574\n",
      "step 770, training accuracy 0.919192, cost 14.3636, change in cost 0.0292225\n",
      "step 780, training accuracy 0.919192, cost 14.3348, change in cost 0.0288\n",
      "step 790, training accuracy 0.919192, cost 14.3064, change in cost 0.028388\n",
      "step 800, training accuracy 0.919192, cost 14.2784, change in cost 0.0279875\n",
      "step 810, training accuracy 0.929293, cost 14.2508, change in cost 0.0275965\n",
      "step 820, training accuracy 0.929293, cost 14.2236, change in cost 0.0272112\n",
      "step 830, training accuracy 0.929293, cost 14.1968, change in cost 0.0268421\n",
      "step 840, training accuracy 0.939394, cost 14.1703, change in cost 0.026473\n",
      "step 850, training accuracy 0.939394, cost 14.1442, change in cost 0.0261183\n",
      "step 860, training accuracy 0.939394, cost 14.1184, change in cost 0.0257692\n",
      "step 870, training accuracy 0.939394, cost 14.093, change in cost 0.0254297\n",
      "step 880, training accuracy 0.939394, cost 14.0679, change in cost 0.0250969\n",
      "step 890, training accuracy 0.939394, cost 14.0431, change in cost 0.0247688\n",
      "step 900, training accuracy 0.939394, cost 14.0187, change in cost 0.0244503\n",
      "step 910, training accuracy 0.939394, cost 13.9945, change in cost 0.0241385\n",
      "step 920, training accuracy 0.939394, cost 13.9707, change in cost 0.0238352\n",
      "step 930, training accuracy 0.939394, cost 13.9472, change in cost 0.0235319\n",
      "step 940, training accuracy 0.939394, cost 13.9239, change in cost 0.023243\n",
      "step 950, training accuracy 0.939394, cost 13.901, change in cost 0.0229521\n",
      "step 960, training accuracy 0.939394, cost 13.8783, change in cost 0.0226765\n",
      "step 970, training accuracy 0.939394, cost 13.8559, change in cost 0.0223961\n",
      "step 980, training accuracy 0.939394, cost 13.8338, change in cost 0.0221272\n",
      "step 990, training accuracy 0.939394, cost 13.8119, change in cost 0.021863\n",
      "final accuracy on test set: 1.0\n"
     ]
    }
   ],
   "source": [
    "# Initialize reporting variables\n",
    "cost = 0\n",
    "diff = 1\n",
    "epoch_values = []\n",
    "accuracy_values = []\n",
    "cost_values = []\n",
    "\n",
    "# Training epochs\n",
    "for i in range(numEpochs):\n",
    "    if i > 1 and diff < .0001:\n",
    "        print(\"change in cost %g; convergence.\"%diff)\n",
    "        break\n",
    "    else:\n",
    "        # Run training step\n",
    "        step = sess.run(training_OP, feed_dict={X: trainX, yGold: trainY})\n",
    "        # Report occasional stats\n",
    "        if i % 10 == 0:\n",
    "            # Add epoch to epoch_values\n",
    "            epoch_values.append(i)\n",
    "            # Generate accuracy stats on test data\n",
    "            train_accuracy, newCost = sess.run([accuracy_OP, cost_OP], feed_dict={X: trainX, yGold: trainY})\n",
    "            # Add accuracy to live graphing variable\n",
    "            accuracy_values.append(train_accuracy)\n",
    "            # Add cost to live graphing variable\n",
    "            cost_values.append(newCost)\n",
    "            # Re-assign values for variables\n",
    "            diff = abs(newCost - cost)\n",
    "            cost = newCost\n",
    "\n",
    "            #generate print statements\n",
    "            print(\"step %d, training accuracy %g, cost %g, change in cost %g\"%(i, train_accuracy, newCost, diff))\n",
    "\n",
    "\n",
    "# How well do we perform on held-out test data?\n",
    "print(\"final accuracy on test set: %s\" %str(sess.run(accuracy_OP, \n",
    "                                                     feed_dict={X: testX, \n",
    "                                                                yGold: testY})))"
   ]
  },
  {
   "cell_type": "markdown",
   "metadata": {},
   "source": [
    "<b>Why don't we plot the cost to see how it behaves?</b>"
   ]
  },
  {
   "cell_type": "code",
   "execution_count": 17,
   "metadata": {},
   "outputs": [
    {
     "data": {
      "image/png": "[encoded data removed]",
      "text/plain": [
       "<Figure size 432x288 with 1 Axes>"
      ]
     },
     "metadata": {
      "needs_background": "light"
     },
     "output_type": "display_data"
    }
   ],
   "source": [
    "%matplotlib inline\n",
    "import numpy as np\n",
    "import matplotlib.pyplot as plt\n",
    "plt.plot([np.mean(cost_values[i-50:i]) for i in range(len(cost_values))])\n",
    "plt.show()"
   ]
  },
  {
   "cell_type": "markdown",
   "metadata": {},
   "source": [
    "Final test accuracy to 100% for epoch set to 1000 and learning rate to 0.009"
   ]
  }
 ],
 "metadata": {
  "kernelspec": {
   "display_name": ".venv",
   "language": "python",
   "name": ".venv"
  },
  "language_info": {
   "codemirror_mode": {
    "name": "ipython",
    "version": 3
   },
   "file_extension": ".py",
   "mimetype": "text/x-python",
   "name": "python",
   "nbconvert_exporter": "python",
   "pygments_lexer": "ipython3",
   "version": "3.6.9"
  }
 },
 "nbformat": 4,
 "nbformat_minor": 2
}
