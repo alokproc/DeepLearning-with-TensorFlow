{
 "cells": [
  {
   "cell_type": "markdown",
   "metadata": {},
   "source": [
    "<a id=\"ref1\"></a>\n",
    "<h1>Linear Regression</h1>\n",
    "\n",
    "Defining a linear regression in simple terms, is the approximation of a linear model used to describe the relationship between two or more variables. In a simple linear regression there are two variables, the dependent variable, which can be seen as the \"state\" or \"final goal\" that we study and try to predict, and the independent variables, also known as explanatory variables, which can be seen as the \"causes\" of the \"states\". \n",
    "\n",
    "When more than one independent variable is present the process is called multiple linear regression. <br>\n",
    "When multiple dependent variables are predicted the process is known as multivariate linear regression.\n",
    "\n",
    "The equation of a simple linear model is\n",
    "\n",
    "$$Y = a X + b $$\n",
    "\n",
    "Where Y is the dependent variable and X is the independent variable, and <b>a</b> and <b>b</b> being the parameters we adjust. <b>a</b> is known as \"slope\" or \"gradient\" and <b>b</b> is the \"intercept\". You can interpret this equation as Y being a function of X, or Y being dependent on X.\n",
    "\n",
    "If you plot the model, you will see it is a line, and by adjusting the \"slope\" parameter you will change the angle between the line and the independent variable axis, and the \"intercept parameter\" will affect where it crosses the dependent variable's axis.\n",
    "\n",
    "First importing the required packages:"
   ]
  },
  {
   "cell_type": "code",
   "execution_count": 1,
   "metadata": {},
   "outputs": [],
   "source": [
    "import warnings\n",
    "warnings.filterwarnings('ignore')"
   ]
  },
  {
   "cell_type": "code",
   "execution_count": 2,
   "metadata": {},
   "outputs": [],
   "source": [
    "import numpy as np\n",
    "import pandas as pd\n",
    "import matplotlib.pyplot as plt\n",
    "import tensorflow as tf\n",
    "import matplotlib.patches as mpatches\n",
    "%matplotlib inline\n"
   ]
  },
  {
   "cell_type": "markdown",
   "metadata": {},
   "source": [
    "Lets define the independent variable"
   ]
  },
  {
   "cell_type": "code",
   "execution_count": 3,
   "metadata": {},
   "outputs": [
    {
     "data": {
      "text/plain": [
       "array([0. , 0.1, 0.2, 0.3, 0.4, 0.5, 0.6, 0.7, 0.8, 0.9, 1. , 1.1, 1.2,\n",
       "       1.3, 1.4, 1.5, 1.6, 1.7, 1.8, 1.9, 2. , 2.1, 2.2, 2.3, 2.4, 2.5,\n",
       "       2.6, 2.7, 2.8, 2.9, 3. , 3.1, 3.2, 3.3, 3.4, 3.5, 3.6, 3.7, 3.8,\n",
       "       3.9, 4. , 4.1, 4.2, 4.3, 4.4, 4.5, 4.6, 4.7, 4.8, 4.9])"
      ]
     },
     "execution_count": 3,
     "metadata": {},
     "output_type": "execute_result"
    }
   ],
   "source": [
    "# numpy arange generates numbers from start to end(excluded) depending on the steps\n",
    "\n",
    "X = np.arange(0, 5, 0.1) \n",
    "X"
   ]
  },
  {
   "cell_type": "code",
   "execution_count": 4,
   "metadata": {},
   "outputs": [
    {
     "data": {
      "image/png": "[encoded data removed]",
      "text/plain": [
       "<Figure size 432x288 with 1 Axes>"
      ]
     },
     "metadata": {
      "needs_background": "light"
     },
     "output_type": "display_data"
    }
   ],
   "source": [
    "# Adding slope and intercept to verify changes in graph\n",
    "a = 1\n",
    "b = 2\n",
    "\n",
    "Y = a*X + b\n",
    "\n",
    "plt.plot(X, Y)\n",
    "plt.xlabel('Independent Variable')\n",
    "plt.ylabel('Dependent Variable')\n",
    "plt.show()"
   ]
  },
  {
   "cell_type": "markdown",
   "metadata": {},
   "source": [
    "OK... but how can we see this concept of linear relations with a more meaningful point of view?\n",
    "\n",
    "Simple linear relations were used to try to describe and quantify many observable physical phenomena, the easiest to understand are speed and distance traveled:\n",
    "\n",
    "$$Distance Traveled = Speed \\times Time + Initial Distance$$\n",
    "\n",
    "$$Speed = Acceleration \\times Time + Initial Speed$$\n",
    "\n",
    "They are also used to describe properties of different materials:\n",
    "\n",
    "\n",
    "\n",
    "$$Force = Deformation \\times Stiffness$$\n",
    "\n",
    "$$Heat Transfered = Temperature Difference \\times Thermal Conductivity$$\n",
    "\n",
    "$$Electrical Tension (Voltage) = Electrical Current \\times Resistance$$\n",
    "\n",
    "$$Mass =  Volume \\times Density$$\n",
    "\n",
    "\n",
    "When we perform an experiment and gather the data, or if we already have a dataset and we want to perform a linear regression, what we will do is adjust a simple linear model to the dataset, we adjust the \"slope\" and \"intercept\" parameters to the data the best way possible, because the closer the model comes to describing each ocurrence, the better it will be at representing them.\n",
    "\n",
    "So how is this \"regression\" performed?\n",
    "\n",
    "----------"
   ]
  },
  {
   "cell_type": "markdown",
   "metadata": {},
   "source": [
    "### Linear Regression with TensorFlow\n",
    "\n",
    "A simple example of a linear function can help us understand the basic mechanism behind TensorFlow.\n",
    "\n",
    "For the first part we will use a sample dataset, and then we'll use TensorFlow to adjust and get the right parameters. We download a dataset that is related to fuel consumption and Carbon dioxide emission of cars. "
   ]
  },
  {
   "cell_type": "code",
   "execution_count": 5,
   "metadata": {},
   "outputs": [
    {
     "data": {
      "text/html": [
       "<div>\n",
       "<style scoped>\n",
       "    .dataframe tbody tr th:only-of-type {\n",
       "        vertical-align: middle;\n",
       "    }\n",
       "\n",
       "    .dataframe tbody tr th {\n",
       "        vertical-align: top;\n",
       "    }\n",
       "\n",
       "    .dataframe thead th {\n",
       "        text-align: right;\n",
       "    }\n",
       "</style>\n",
       "<table border=\"1\" class=\"dataframe\">\n",
       "  <thead>\n",
       "    <tr style=\"text-align: right;\">\n",
       "      <th></th>\n",
       "      <th>MODELYEAR</th>\n",
       "      <th>MAKE</th>\n",
       "      <th>MODEL</th>\n",
       "      <th>VEHICLECLASS</th>\n",
       "      <th>ENGINESIZE</th>\n",
       "      <th>CYLINDERS</th>\n",
       "      <th>TRANSMISSION</th>\n",
       "      <th>FUELTYPE</th>\n",
       "      <th>FUELCONSUMPTION_CITY</th>\n",
       "      <th>FUELCONSUMPTION_HWY</th>\n",
       "      <th>FUELCONSUMPTION_COMB</th>\n",
       "      <th>FUELCONSUMPTION_COMB_MPG</th>\n",
       "      <th>CO2EMISSIONS</th>\n",
       "    </tr>\n",
       "  </thead>\n",
       "  <tbody>\n",
       "    <tr>\n",
       "      <th>0</th>\n",
       "      <td>2014</td>\n",
       "      <td>ACURA</td>\n",
       "      <td>ILX</td>\n",
       "      <td>COMPACT</td>\n",
       "      <td>2.0</td>\n",
       "      <td>4</td>\n",
       "      <td>AS5</td>\n",
       "      <td>Z</td>\n",
       "      <td>9.9</td>\n",
       "      <td>6.7</td>\n",
       "      <td>8.5</td>\n",
       "      <td>33</td>\n",
       "      <td>196</td>\n",
       "    </tr>\n",
       "    <tr>\n",
       "      <th>1</th>\n",
       "      <td>2014</td>\n",
       "      <td>ACURA</td>\n",
       "      <td>ILX</td>\n",
       "      <td>COMPACT</td>\n",
       "      <td>2.4</td>\n",
       "      <td>4</td>\n",
       "      <td>M6</td>\n",
       "      <td>Z</td>\n",
       "      <td>11.2</td>\n",
       "      <td>7.7</td>\n",
       "      <td>9.6</td>\n",
       "      <td>29</td>\n",
       "      <td>221</td>\n",
       "    </tr>\n",
       "    <tr>\n",
       "      <th>2</th>\n",
       "      <td>2014</td>\n",
       "      <td>ACURA</td>\n",
       "      <td>ILX HYBRID</td>\n",
       "      <td>COMPACT</td>\n",
       "      <td>1.5</td>\n",
       "      <td>4</td>\n",
       "      <td>AV7</td>\n",
       "      <td>Z</td>\n",
       "      <td>6.0</td>\n",
       "      <td>5.8</td>\n",
       "      <td>5.9</td>\n",
       "      <td>48</td>\n",
       "      <td>136</td>\n",
       "    </tr>\n",
       "    <tr>\n",
       "      <th>3</th>\n",
       "      <td>2014</td>\n",
       "      <td>ACURA</td>\n",
       "      <td>MDX 4WD</td>\n",
       "      <td>SUV - SMALL</td>\n",
       "      <td>3.5</td>\n",
       "      <td>6</td>\n",
       "      <td>AS6</td>\n",
       "      <td>Z</td>\n",
       "      <td>12.7</td>\n",
       "      <td>9.1</td>\n",
       "      <td>11.1</td>\n",
       "      <td>25</td>\n",
       "      <td>255</td>\n",
       "    </tr>\n",
       "    <tr>\n",
       "      <th>4</th>\n",
       "      <td>2014</td>\n",
       "      <td>ACURA</td>\n",
       "      <td>RDX AWD</td>\n",
       "      <td>SUV - SMALL</td>\n",
       "      <td>3.5</td>\n",
       "      <td>6</td>\n",
       "      <td>AS6</td>\n",
       "      <td>Z</td>\n",
       "      <td>12.1</td>\n",
       "      <td>8.7</td>\n",
       "      <td>10.6</td>\n",
       "      <td>27</td>\n",
       "      <td>244</td>\n",
       "    </tr>\n",
       "  </tbody>\n",
       "</table>\n",
       "</div>"
      ],
      "text/plain": [
       "   MODELYEAR   MAKE       MODEL VEHICLECLASS  ENGINESIZE  CYLINDERS  \\\n",
       "0       2014  ACURA         ILX      COMPACT         2.0          4   \n",
       "1       2014  ACURA         ILX      COMPACT         2.4          4   \n",
       "2       2014  ACURA  ILX HYBRID      COMPACT         1.5          4   \n",
       "3       2014  ACURA     MDX 4WD  SUV - SMALL         3.5          6   \n",
       "4       2014  ACURA     RDX AWD  SUV - SMALL         3.5          6   \n",
       "\n",
       "  TRANSMISSION FUELTYPE  FUELCONSUMPTION_CITY  FUELCONSUMPTION_HWY  \\\n",
       "0          AS5        Z                   9.9                  6.7   \n",
       "1           M6        Z                  11.2                  7.7   \n",
       "2          AV7        Z                   6.0                  5.8   \n",
       "3          AS6        Z                  12.7                  9.1   \n",
       "4          AS6        Z                  12.1                  8.7   \n",
       "\n",
       "   FUELCONSUMPTION_COMB  FUELCONSUMPTION_COMB_MPG  CO2EMISSIONS  \n",
       "0                   8.5                        33           196  \n",
       "1                   9.6                        29           221  \n",
       "2                   5.9                        48           136  \n",
       "3                  11.1                        25           255  \n",
       "4                  10.6                        27           244  "
      ]
     },
     "execution_count": 5,
     "metadata": {},
     "output_type": "execute_result"
    }
   ],
   "source": [
    "df = pd.read_csv('Data/FuelConsumptionCo2.csv')\n",
    "df.head()"
   ]
  },
  {
   "cell_type": "markdown",
   "metadata": {},
   "source": [
    "<h2>Understanding the Data</h2>\n",
    "\n",
    "<h3><code>FuelConsumption.csv</code>:</h3>\n",
    "We have downloaded a fuel consumption dataset, <b><code>FuelConsumption.csv</code></b>, which contains model-specific fuel consumption ratings and estimated carbon dioxide emissions for new light-duty vehicles for retail sale in Canada. <a href=\"http://open.canada.ca/data/en/dataset/98f1a129-f628-4ce4-b24d-6f16bf24dd64\">Dataset source</a>\n",
    "\n",
    "- **MODELYEAR** e.g. 2014\n",
    "- **MAKE** e.g. Acura\n",
    "- **MODEL** e.g. ILX\n",
    "- **VEHICLE CLASS** e.g. SUV\n",
    "- **ENGINE SIZE** e.g. 4.7\n",
    "- **CYLINDERS** e.g 6\n",
    "- **TRANSMISSION** e.g. A6\n",
    "- **FUEL CONSUMPTION in CITY(L/100 km)** e.g. 9.9\n",
    "- **FUEL CONSUMPTION in HWY (L/100 km)** e.g. 8.9\n",
    "- **FUEL CONSUMPTION COMB (L/100 km)** e.g. 9.2\n",
    "- **CO2 EMISSIONS (g/km)** e.g. 182   --> low --> 0"
   ]
  },
  {
   "cell_type": "markdown",
   "metadata": {},
   "source": [
    "Lets say we want to use linear regression to predict Co2Emission of cars based on their engine size. So, lets define X and Y value for the linear regression, that is, __train_x__ and __train_y__:"
   ]
  },
  {
   "cell_type": "code",
   "execution_count": 6,
   "metadata": {},
   "outputs": [],
   "source": [
    "# Convert the input to an ndarray\n",
    "train_x = np.asanyarray(df['ENGINESIZE'])\n",
    "train_y = np.asanyarray(df['CO2EMISSIONS'])"
   ]
  },
  {
   "cell_type": "code",
   "execution_count": 7,
   "metadata": {},
   "outputs": [
    {
     "name": "stdout",
     "output_type": "stream",
     "text": [
      "train_x :\n",
      "[2.  2.4 1.5 3.5 3.5 3.5 3.5 3.7 3.7 2.4]\n",
      "train_y :\n",
      "[196 221 136 255 244 230 232 255 267 212]\n"
     ]
    }
   ],
   "source": [
    "print('train_x :\\n%s'%train_x[:10])\n",
    "print('train_y :\\n%s'%train_y[:10])"
   ]
  },
  {
   "cell_type": "markdown",
   "metadata": {},
   "source": [
    "First, we initialize the variables __a__ and __b__, with any random guess, and then we define the linear function:"
   ]
  },
  {
   "cell_type": "code",
   "execution_count": 8,
   "metadata": {},
   "outputs": [],
   "source": [
    "a = tf.Variable(20.0)\n",
    "b = tf.Variable(30.2)\n",
    "y = a * train_x + b"
   ]
  },
  {
   "cell_type": "markdown",
   "metadata": {},
   "source": [
    "Now, we are going to define a loss function for our regression, so we can train our model to better fit our data. In a linear regression, we minimize the squared error of the difference between the predicted values(obtained from the equation) and the target values (the data that we have). In other words we want to minimize the square of the predicted values minus the target value. So we define the equation to be minimized as loss.\n",
    "\n",
    "To find value of our loss, we use <b>tf.reduce_mean()</b>. This function finds the mean of a multidimensional tensor, and the result can have a different dimension."
   ]
  },
  {
   "cell_type": "code",
   "execution_count": 9,
   "metadata": {},
   "outputs": [],
   "source": [
    "# computes the average of loss squared, \n",
    "# y is predicted and train_y is actual output\n",
    "loss = tf.reduce_mean(tf.square(y - train_y))"
   ]
  },
  {
   "cell_type": "markdown",
   "metadata": {},
   "source": [
    "Then, we define the __optimizer method__. The __gradient Descent optimizer__ takes in parameter: \n",
    "* learning rate, which corresponds to the speed with which the optimizer should learn; there are pros and cons for increasing the learning-rate parameter, with a high learning rate the training model converges quickly, but there is a risk that a high learning rate causes instability and the model will not converge. \n",
    "\n",
    "_Please feel free to make changes to learning parameter and check its effect_. On the other hand decreasing the learning rate might reduce the convergence speed, but it would increase the chance of converging to a solution. You should note that the solution might not be a global optimal solution as there is a chance that the optimizer will get stuck in a local optimal solution. Please review other material for further information on the optimization. Here we will use a simple gradient descent with a learning rate of 0.05: <br>  "
   ]
  },
  {
   "cell_type": "code",
   "execution_count": 10,
   "metadata": {},
   "outputs": [],
   "source": [
    "optimizer = tf.train.GradientDescentOptimizer(0.05)"
   ]
  },
  {
   "cell_type": "markdown",
   "metadata": {},
   "source": [
    "Now we will define the training method of our graph, what method we will use for minimize the loss? We will use the <b>.minimize()</b> which will minimize the error function of our optimizer, resulting in a better model."
   ]
  },
  {
   "cell_type": "code",
   "execution_count": 11,
   "metadata": {},
   "outputs": [],
   "source": [
    "train = optimizer.minimize(loss)"
   ]
  },
  {
   "cell_type": "markdown",
   "metadata": {},
   "source": [
    "Initilializing the variables"
   ]
  },
  {
   "cell_type": "code",
   "execution_count": 12,
   "metadata": {},
   "outputs": [],
   "source": [
    "init = tf.global_variables_initializer()\n",
    "sess = tf.Session()\n",
    "sess.run(init)"
   ]
  },
  {
   "cell_type": "markdown",
   "metadata": {},
   "source": [
    "Now we are ready to start the optimization and run the graph"
   ]
  },
  {
   "cell_type": "code",
   "execution_count": 13,
   "metadata": {},
   "outputs": [
    {
     "name": "stdout",
     "output_type": "stream",
     "text": [
      "0 26992.594 77.07106 46.110275\n",
      "5 1891.7205 58.84462 47.59573\n",
      "10 1762.7241 57.65104 53.019833\n",
      "15 1653.5897 56.36652 58.023922\n",
      "20 1559.0441 55.172844 62.68204\n",
      "25 1477.1372 54.061794 67.01765\n",
      "30 1406.179 53.027664 71.05309\n",
      "35 1344.7057 52.065136 74.809135\n",
      "40 1291.4506 51.169243 78.30512\n",
      "45 1245.3145 50.33538 81.559074\n",
      "50 1205.3451 49.55925 84.58775\n",
      "55 1170.7189 48.83685 87.40674\n",
      "60 1140.7214 48.164467 90.03055\n",
      "65 1114.734 47.53864 92.472694\n",
      "70 1092.2203 46.956135 94.74576\n",
      "75 1072.7163 46.413967 96.86146\n",
      "80 1055.8193 45.909332 98.83067\n",
      "85 1041.1812 45.439632 100.66355\n",
      "90 1028.4996 45.002453 102.36953\n",
      "95 1017.5135 44.595547 103.95739\n",
      "100 1007.99603 44.216812 105.43532\n",
      "105 999.75037 43.864296 106.81092\n",
      "110 992.6073 43.53619 108.091286\n",
      "115 986.41907 43.230793 109.283005\n",
      "120 981.0582 42.946545 110.39222\n",
      "125 976.4136 42.681976 111.424644\n",
      "130 972.39014 42.435722 112.38558\n",
      "135 968.90405 42.20652 113.27999\n",
      "140 965.88446 41.993187 114.11248\n",
      "145 963.26843 41.79462 114.88733\n",
      "150 961.0018 41.609806 115.60853\n",
      "155 959.0387 41.437782 116.27979\n",
      "160 957.33765 41.277676 116.90459\n",
      "165 955.8641 41.12865 117.48612\n",
      "170 954.58734 40.989944 118.02739\n",
      "175 953.4815 40.86084 118.53119\n",
      "180 952.5234 40.740673 119.000114\n",
      "185 951.69324 40.628822 119.43656\n",
      "190 950.9741 40.524723 119.8428\n",
      "195 950.3514 40.42783 120.22091\n",
      "200 949.8116 40.337643 120.57284\n",
      "205 949.34393 40.2537 120.9004\n",
      "210 948.9389 40.17557 121.205284\n",
      "215 948.588 40.102848 121.48907\n",
      "220 948.28424 40.03516 121.753204\n",
      "225 948.02075 39.97216 121.99905\n",
      "230 947.7927 39.91352 122.227875\n",
      "235 947.5949 39.85894 122.44086\n",
      "240 947.42365 39.808136 122.63909\n",
      "245 947.2753 39.760857 122.82361\n",
      "250 947.1469 39.716846 122.995346\n",
      "255 947.0357 39.675884 123.15519\n",
      "260 946.9392 39.637756 123.30397\n",
      "265 946.85547 39.60227 123.44245\n",
      "270 946.78296 39.56924 123.57134\n",
      "275 946.7205 39.538498 123.69131\n",
      "280 946.6661 39.50988 123.80298\n",
      "285 946.6189 39.483246 123.906906\n",
      "290 946.5782 39.458458 124.00364\n",
      "295 946.5429 39.435387 124.09367\n",
      "300 946.51227 39.413914 124.17747\n",
      "305 946.48596 39.393925 124.25547\n",
      "310 946.4629 39.375317 124.32807\n",
      "315 946.443 39.358 124.39565\n",
      "320 946.4258 39.34188 124.45855\n",
      "325 946.41077 39.32688 124.51709\n",
      "330 946.3978 39.312916 124.57159\n",
      "335 946.3867 39.29992 124.6223\n",
      "340 946.3769 39.287823 124.6695\n",
      "345 946.3686 39.27656 124.71344\n",
      "350 946.3612 39.266083 124.754326\n",
      "355 946.3549 39.256332 124.79239\n",
      "360 946.34955 39.24725 124.82782\n",
      "365 946.3447 39.238804 124.860794\n",
      "370 946.3407 39.230938 124.89149\n",
      "375 946.33685 39.223618 124.92005\n",
      "380 946.334 39.2168 124.94664\n",
      "385 946.33136 39.21046 124.97139\n",
      "390 946.329 39.20456 124.99442\n",
      "395 946.32697 39.199062 125.01586\n",
      "400 946.32526 39.193947 125.03582\n",
      "405 946.3237 39.18919 125.0544\n",
      "410 946.32245 39.184757 125.071686\n",
      "415 946.3212 39.180634 125.08778\n",
      "420 946.3204 39.176796 125.10275\n",
      "425 946.31964 39.173225 125.11669\n",
      "430 946.31903 39.169903 125.12967\n",
      "435 946.3181 39.166805 125.14175\n",
      "440 946.31757 39.163925 125.152985\n",
      "445 946.3172 39.161243 125.16344\n",
      "450 946.31647 39.158752 125.17317\n",
      "455 946.3162 39.15643 125.18223\n",
      "460 946.3161 39.15427 125.19067\n",
      "465 946.316 39.152252 125.198524\n",
      "470 946.31555 39.150383 125.20583\n",
      "475 946.31537 39.14864 125.21263\n",
      "480 946.3152 39.147015 125.21896\n",
      "485 946.315 39.145508 125.22485\n",
      "490 946.315 39.1441 125.23035\n",
      "495 946.31445 39.14279 125.23546\n",
      "500 946.3147 39.14157 125.24021\n",
      "505 946.31464 39.140438 125.24464\n",
      "510 946.3147 39.139385 125.24875\n",
      "515 946.3145 39.1384 125.25258\n",
      "520 946.31445 39.13749 125.25614\n",
      "525 946.31433 39.13664 125.25946\n",
      "530 946.3146 39.135845 125.26255\n",
      "535 946.31415 39.135113 125.26542\n",
      "540 946.3143 39.134426 125.26809\n",
      "545 946.3142 39.13379 125.27057\n",
      "550 946.3141 39.133198 125.272896\n",
      "555 946.31415 39.132645 125.275055\n",
      "560 946.31415 39.132126 125.27707\n",
      "565 946.31433 39.131645 125.278946\n",
      "570 946.3143 39.1312 125.280685\n",
      "575 946.31415 39.130783 125.2823\n",
      "580 946.31415 39.130398 125.28381\n",
      "585 946.31433 39.13004 125.28522\n",
      "590 946.3142 39.129704 125.28652\n",
      "595 946.3142 39.129395 125.287735\n",
      "600 946.31415 39.1291 125.28887\n",
      "605 946.3141 39.128834 125.289925\n",
      "610 946.31396 39.128586 125.2909\n",
      "615 946.31415 39.12835 125.29181\n",
      "620 946.314 39.12813 125.29266\n",
      "625 946.3142 39.12793 125.29345\n",
      "630 946.314 39.12774 125.29419\n",
      "635 946.314 39.127563 125.294876\n",
      "640 946.314 39.1274 125.29551\n",
      "645 946.31415 39.12725 125.2961\n",
      "650 946.3141 39.127106 125.29665\n",
      "655 946.3141 39.126976 125.29717\n",
      "660 946.31396 39.126854 125.297646\n",
      "665 946.31396 39.12674 125.298096\n",
      "670 946.31396 39.126633 125.298515\n",
      "675 946.3141 39.126534 125.2989\n",
      "680 946.31396 39.126442 125.299255\n",
      "685 946.314 39.126354 125.29959\n",
      "690 946.31415 39.126278 125.2999\n",
      "695 946.31415 39.126198 125.30019\n",
      "700 946.31415 39.126133 125.30046\n",
      "705 946.31384 39.12607 125.30071\n",
      "710 946.3141 39.12601 125.30094\n",
      "715 946.3139 39.125954 125.30116\n",
      "720 946.314 39.125904 125.30135\n",
      "725 946.3141 39.125854 125.301544\n",
      "730 946.314 39.12581 125.30173\n",
      "735 946.3141 39.125767 125.30189\n",
      "740 946.31396 39.12573 125.30204\n",
      "745 946.31384 39.12569 125.30219\n",
      "750 946.3139 39.125652 125.30232\n",
      "755 946.3138 39.125626 125.30244\n",
      "760 946.314 39.125595 125.30255\n",
      "765 946.3139 39.125565 125.302666\n",
      "770 946.314 39.125538 125.30277\n",
      "775 946.3139 39.12552 125.30286\n",
      "780 946.31415 39.1255 125.30293\n",
      "785 946.3141 39.12548 125.30301\n",
      "790 946.3143 39.12546 125.303085\n",
      "795 946.31415 39.125443 125.30316\n",
      "800 946.3142 39.12542 125.30324\n",
      "805 946.314 39.125404 125.3033\n",
      "810 946.31415 39.125393 125.30335\n",
      "815 946.31415 39.12538 125.30339\n",
      "820 946.3143 39.12537 125.30343\n",
      "825 946.3142 39.125362 125.30347\n",
      "830 946.3141 39.12535 125.303505\n",
      "835 946.314 39.125343 125.30354\n",
      "840 946.3141 39.12533 125.30358\n",
      "845 946.314 39.125324 125.30362\n",
      "850 946.314 39.125313 125.30366\n",
      "855 946.31415 39.125305 125.303696\n",
      "860 946.3141 39.125294 125.303734\n",
      "865 946.31415 39.125286 125.30377\n",
      "870 946.31415 39.12528 125.3038\n",
      "875 946.3144 39.125275 125.303825\n",
      "880 946.3143 39.125267 125.30384\n",
      "885 946.3143 39.125267 125.30384\n",
      "890 946.3143 39.125267 125.30384\n",
      "895 946.3143 39.125267 125.30384\n",
      "900 946.3143 39.125267 125.30384\n",
      "905 946.3143 39.125267 125.30384\n",
      "910 946.3143 39.125267 125.30384\n",
      "915 946.3143 39.125267 125.30384\n",
      "920 946.3143 39.125267 125.30384\n",
      "925 946.3143 39.125267 125.30384\n",
      "930 946.3143 39.125267 125.30384\n",
      "935 946.3143 39.125267 125.30384\n",
      "940 946.3143 39.125267 125.30384\n",
      "945 946.3143 39.125267 125.30384\n",
      "950 946.3143 39.125267 125.30384\n",
      "955 946.3143 39.125267 125.30384\n",
      "960 946.3143 39.125267 125.30384\n",
      "965 946.3143 39.125267 125.30384\n",
      "970 946.3143 39.125267 125.30384\n",
      "975 946.3143 39.125267 125.30384\n",
      "980 946.3143 39.125267 125.30384\n",
      "985 946.3143 39.125267 125.30384\n",
      "990 946.3143 39.125267 125.30384\n",
      "995 946.3143 39.125267 125.30384\n"
     ]
    }
   ],
   "source": [
    "loss_values = []\n",
    "train_data = []\n",
    "for step in range(1000):\n",
    "    _, loss_val, a_val, b_val = sess.run([train, loss, a, b])\n",
    "    loss_values.append(loss_val)\n",
    "    if step % 5 == 0:\n",
    "        print(step, loss_val, a_val, b_val)\n",
    "        train_data.append([a_val, b_val])\n",
    "    "
   ]
  },
  {
   "cell_type": "markdown",
   "metadata": {},
   "source": [
    "Lets plot the loss values to see how it has changed during the training:"
   ]
  },
  {
   "cell_type": "code",
   "execution_count": 14,
   "metadata": {},
   "outputs": [
    {
     "data": {
      "text/plain": [
       "[<matplotlib.lines.Line2D at 0x7f1cf94d9828>]"
      ]
     },
     "execution_count": 14,
     "metadata": {},
     "output_type": "execute_result"
    },
    {
     "data": {
      "image/png": "[encoded data removed]",
      "text/plain": [
       "<Figure size 432x288 with 1 Axes>"
      ]
     },
     "metadata": {
      "needs_background": "light"
     },
     "output_type": "display_data"
    }
   ],
   "source": [
    "plt.plot(loss_values, 'r')"
   ]
  },
  {
   "cell_type": "code",
   "execution_count": 15,
   "metadata": {},
   "outputs": [
    {
     "data": {
      "image/png": "[encoded data removed]",
      "text/plain": [
       "<Figure size 432x288 with 1 Axes>"
      ]
     },
     "metadata": {
      "needs_background": "light"
     },
     "output_type": "display_data"
    }
   ],
   "source": [
    "cr, cg, cb = (1.0, 1.0, 0.0)\n",
    "for f in train_data:\n",
    "    cb += 1.0 / len(train_data)\n",
    "    cg -= 1.0 / len(train_data)\n",
    "    if cb > 1.0: cb = 1.0\n",
    "    if cg < 0.0: cg = 0.0\n",
    "    [a, b] = f\n",
    "    f_y = np.vectorize(lambda x: a*x + b)(train_x)\n",
    "    line = plt.plot(train_x, f_y)\n",
    "    plt.setp(line, color=(cr,cg,cb))\n",
    "\n",
    "plt.plot(train_x, train_y, 'ro')\n",
    "\n",
    "\n",
    "green_line = mpatches.Patch(color='red', label='Data Points')\n",
    "\n",
    "plt.legend(handles=[green_line])\n",
    "\n",
    "plt.show()"
   ]
  },
  {
   "cell_type": "markdown",
   "metadata": {},
   "source": [
    "---------------------------\n",
    "<strong> Now lets try with multiple variables </strong>\n",
    "\n",
    "1. Engine Size\n",
    "2. Cylinders"
   ]
  },
  {
   "cell_type": "code",
   "execution_count": 16,
   "metadata": {},
   "outputs": [],
   "source": [
    "# Convert the input to an ndarray\n",
    "x1 = np.asanyarray(df['ENGINESIZE'])\n",
    "x2 = np.asanyarray(df['CYLINDERS'])\n",
    "train_y = np.asanyarray(df['CO2EMISSIONS'])"
   ]
  },
  {
   "cell_type": "code",
   "execution_count": 17,
   "metadata": {},
   "outputs": [
    {
     "name": "stdout",
     "output_type": "stream",
     "text": [
      "x1 :\n",
      "[2.  2.4 1.5 3.5 3.5 3.5 3.5 3.7 3.7 2.4]\n",
      "x2 :\n",
      "[4 4 4 6 6 6 6 6 6 4]\n",
      "train_y :\n",
      "[196 221 136 255 244 230 232 255 267 212]\n"
     ]
    }
   ],
   "source": [
    "print('x1 :\\n%s'%x1[:10])\n",
    "print('x2 :\\n%s'%x2[:10])\n",
    "print('train_y :\\n%s'%train_y[:10])"
   ]
  },
  {
   "cell_type": "markdown",
   "metadata": {},
   "source": [
    "First, we initialize the variables __a1__, __a2__ and __b__, with any random guess, and then we define the linear function:"
   ]
  },
  {
   "cell_type": "code",
   "execution_count": 18,
   "metadata": {},
   "outputs": [],
   "source": [
    "a1 = tf.Variable(20.0)\n",
    "a2 = tf.Variable(10.0)\n",
    "b = tf.Variable(30.2)\n",
    "y = a1 * x1 + a2 * x2 + b"
   ]
  },
  {
   "cell_type": "code",
   "execution_count": 19,
   "metadata": {},
   "outputs": [],
   "source": [
    "# Loss computer\n",
    "loss = tf.reduce_mean(tf.square(y - train_y))"
   ]
  },
  {
   "cell_type": "code",
   "execution_count": 20,
   "metadata": {},
   "outputs": [],
   "source": [
    "optimizer = tf.train.GradientDescentOptimizer(0.009)"
   ]
  },
  {
   "cell_type": "code",
   "execution_count": 21,
   "metadata": {},
   "outputs": [],
   "source": [
    "train = optimizer.minimize(loss)"
   ]
  },
  {
   "cell_type": "code",
   "execution_count": 22,
   "metadata": {},
   "outputs": [],
   "source": [
    "# Initializing the variables\n",
    "init = tf.global_variables_initializer()\n",
    "sess = tf.Session()\n",
    "sess.run(init)"
   ]
  },
  {
   "cell_type": "code",
   "execution_count": 23,
   "metadata": {},
   "outputs": [
    {
     "name": "stdout",
     "output_type": "stream",
     "text": [
      "0 11250.091\n",
      "5 1397.6748\n",
      "10 1385.3276\n",
      "15 1373.4766\n",
      "20 1362.0972\n",
      "25 1351.1685\n",
      "30 1340.6683\n",
      "35 1330.5765\n",
      "40 1320.8743\n",
      "45 1311.5421\n",
      "50 1302.564\n",
      "55 1293.9222\n",
      "60 1285.6024\n",
      "65 1277.588\n",
      "70 1269.8661\n",
      "75 1262.4221\n",
      "80 1255.244\n",
      "85 1248.3191\n",
      "90 1241.6362\n",
      "95 1235.1842\n",
      "100 1228.9521\n",
      "105 1222.93\n",
      "110 1217.1091\n",
      "115 1211.4799\n",
      "120 1206.0336\n",
      "125 1200.7627\n",
      "130 1195.6584\n",
      "135 1190.7142\n",
      "140 1185.9227\n",
      "145 1181.2775\n",
      "150 1176.7715\n",
      "155 1172.3994\n",
      "160 1168.1553\n",
      "165 1164.0338\n",
      "170 1160.0289\n",
      "175 1156.137\n",
      "180 1152.352\n",
      "185 1148.6703\n",
      "190 1145.0875\n",
      "195 1141.5996\n",
      "200 1138.202\n",
      "205 1134.8915\n",
      "210 1131.6646\n",
      "215 1128.5183\n",
      "220 1125.4489\n",
      "225 1122.4536\n",
      "230 1119.5292\n",
      "235 1116.6736\n",
      "240 1113.8834\n",
      "245 1111.1564\n",
      "250 1108.4902\n",
      "255 1105.8827\n",
      "260 1103.3317\n",
      "265 1100.8352\n",
      "270 1098.3907\n",
      "275 1095.9967\n",
      "280 1093.6517\n",
      "285 1091.3531\n",
      "290 1089.1006\n",
      "295 1086.8914\n"
     ]
    }
   ],
   "source": [
    "loss_values = []\n",
    "train_data = []\n",
    "for step in range(300):\n",
    "    _, loss_val, a1_val, a2_val, b_val = sess.run([train, loss, a1, a2, b])\n",
    "    loss_values.append(loss_val)\n",
    "    if step % 5 == 0:\n",
    "        print(step, loss_val)\n",
    "        train_data.append([a1_val, a2_val, b_val])\n",
    "  "
   ]
  },
  {
   "cell_type": "code",
   "execution_count": 24,
   "metadata": {},
   "outputs": [
    {
     "data": {
      "text/plain": [
       "[<matplotlib.lines.Line2D at 0x7f1cf0762d68>]"
      ]
     },
     "execution_count": 24,
     "metadata": {},
     "output_type": "execute_result"
    },
    {
     "data": {
      "image/png": "[encoded data removed]",
      "text/plain": [
       "<Figure size 432x288 with 1 Axes>"
      ]
     },
     "metadata": {
      "needs_background": "light"
     },
     "output_type": "display_data"
    }
   ],
   "source": [
    "plt.plot(loss_values, 'r')"
   ]
  }
 ],
 "metadata": {
  "kernelspec": {
   "display_name": ".venv",
   "language": "python",
   "name": ".venv"
  },
  "language_info": {
   "codemirror_mode": {
    "name": "ipython",
    "version": 3
   },
   "file_extension": ".py",
   "mimetype": "text/x-python",
   "name": "python",
   "nbconvert_exporter": "python",
   "pygments_lexer": "ipython3",
   "version": "3.6.9"
  }
 },
 "nbformat": 4,
 "nbformat_minor": 2
}
